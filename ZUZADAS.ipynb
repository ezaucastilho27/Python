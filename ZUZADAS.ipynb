{
 "cells": [
  {
   "cell_type": "code",
   "execution_count": 34,
   "metadata": {},
   "outputs": [
    {
     "name": "stdout",
     "output_type": "stream",
     "text": [
      "5 patinhos foram passear,além das montanhas para brincar. A mamãe gritou: Mas só:  4 patinhos voltaram de lá.\n",
      "4 patinhos foram passear,além das montanhas para brincar. A mamãe gritou: Mas só:  3 patinhos voltaram de lá.\n",
      "3 patinhos foram passear,além das montanhas para brincar. A mamãe gritou: Mas só:  2 patinhos voltaram de lá.\n",
      "2 patinhos foram passear,além das montanhas para brincar. A mamãe gritou: Mas só:  1 patinhos voltaram de lá.\n",
      "1 patinhos foram passear,além das montanhas para brincar. A mamãe gritou: Mas só:  0 patinhos voltaram de lá.\n",
      "A mamãe patinha foi procurar, além das montanhas na beira do mar, a mamãe gritou Quá, quá, quá, quá mas 5 patinho voltou de lá\n"
     ]
    }
   ],
   "source": [
    "n = 5\n",
    "while n >0:\n",
    "    print(n, 'patinhos foram passear,além das montanhas para brincar. A mamãe gritou: Mas só: ',(n-1), 'patinhos voltaram de lá.')\n",
    "    n -= 1\n",
    "print('A mamãe patinha foi procurar, além das montanhas na beira do mar, a mamãe gritou Quá, quá, quá, quá mas' ,5,  'patinho voltou de lá')"
   ]
  },
  {
   "cell_type": "code",
   "execution_count": 42,
   "metadata": {},
   "outputs": [
    {
     "name": "stdout",
     "output_type": "stream",
     "text": [
      "Mariana conta 1 ... Mariana conta 1 ,é [1]\n",
      "Mariana conta 2 ... Mariana conta 2 ,é [1, 2]\n",
      "Mariana conta 3 ... Mariana conta 3 ,é [1, 2, 3]\n",
      "Mariana conta 4 ... Mariana conta 4 ,é [1, 2, 3, 4]\n",
      "Mariana conta 5 ... Mariana conta 5 ,é [1, 2, 3, 4, 5]\n",
      "Mariana conta 6 ... Mariana conta 6 ,é [1, 2, 3, 4, 5, 6]\n",
      "Mariana conta 7 ... Mariana conta 7 ,é [1, 2, 3, 4, 5, 6, 7]\n",
      "Mariana conta 8 ... Mariana conta 8 ,é [1, 2, 3, 4, 5, 6, 7, 8]\n",
      "Mariana conta 9 ... Mariana conta 9 ,é [1, 2, 3, 4, 5, 6, 7, 8, 9]\n",
      "Mariana conta 10 ... Mariana conta 10 ,é [1, 2, 3, 4, 5, 6, 7, 8, 9, 10]\n"
     ]
    }
   ],
   "source": [
    "V = [1,2,3,4,5,6,7,8,9,10]\n",
    "for n in V: \n",
    "    print('Mariana conta' ,n,'... Mariana conta' ,n, ',é', V[:n])"
   ]
  },
  {
   "cell_type": "code",
   "execution_count": 69,
   "metadata": {},
   "outputs": [
    {
     "name": "stdout",
     "output_type": "stream",
     "text": [
      "1 elefante incomoda muita gente\n",
      "2 elefantes incomodam incomodam  muito mais\n",
      "2 elefante incomoda muita gente\n",
      "3 elefantes incomodam incomodam incomodam  muito mais\n",
      "3 elefante incomoda muita gente\n",
      "4 elefantes incomodam incomodam incomodam incomodam  muito mais\n",
      "4 elefante incomoda muita gente\n",
      "5 elefantes incomodam incomodam incomodam incomodam incomodam  muito mais\n",
      "5 elefante incomoda muita gente\n",
      "6 elefantes incomodam incomodam incomodam incomodam incomodam incomodam  muito mais\n",
      "6 elefante incomoda muita gente\n",
      "7 elefantes incomodam incomodam incomodam incomodam incomodam incomodam incomodam  muito mais\n",
      "7 elefante incomoda muita gente\n",
      "8 elefantes incomodam incomodam incomodam incomodam incomodam incomodam incomodam incomodam  muito mais\n",
      "8 elefante incomoda muita gente\n",
      "9 elefantes incomodam incomodam incomodam incomodam incomodam incomodam incomodam incomodam incomodam  muito mais\n",
      "9 elefante incomoda muita gente\n",
      "10 elefantes incomodam incomodam incomodam incomodam incomodam incomodam incomodam incomodam incomodam incomodam  muito mais\n",
      "10 elefante incomoda muita gente\n",
      "11 elefantes incomodam incomodam incomodam incomodam incomodam incomodam incomodam incomodam incomodam incomodam incomodam  muito mais\n"
     ]
    }
   ],
   "source": [
    "n = [1, 2, 3, 4, 5, 6, 7, 8, 9, 10]\n",
    "\n",
    "for elefantes in n:\n",
    "    #if elefantes == 1:\n",
    "        print(elefantes, 'elefante incomoda muita gente')\n",
    "        elefantes+=1\n",
    "        print(elefantes, 'elefantes', 'incomodam ' *elefantes, 'muito mais')\n",
    "\n"
   ]
  }
 ],
 "metadata": {
  "kernelspec": {
   "display_name": "Python 3",
   "language": "python",
   "name": "python3"
  },
  "language_info": {
   "codemirror_mode": {
    "name": "ipython",
    "version": 3
   },
   "file_extension": ".py",
   "mimetype": "text/x-python",
   "name": "python",
   "nbconvert_exporter": "python",
   "pygments_lexer": "ipython3",
   "version": "3.11.4"
  }
 },
 "nbformat": 4,
 "nbformat_minor": 2
}
