{
 "cells": [
  {
   "cell_type": "code",
   "execution_count": 9,
   "metadata": {},
   "outputs": [],
   "source": [
    "\n",
    "L = list() #construtor de listas\n"
   ]
  },
  {
   "cell_type": "code",
   "execution_count": 10,
   "metadata": {},
   "outputs": [
    {
     "data": {
      "text/plain": [
       "3"
      ]
     },
     "execution_count": 10,
     "metadata": {},
     "output_type": "execute_result"
    }
   ],
   "source": [
    "dias = [3,1,10]\n",
    "dias [0] \n"
   ]
  },
  {
   "cell_type": "code",
   "execution_count": 17,
   "metadata": {},
   "outputs": [
    {
     "data": {
      "text/plain": [
       "1"
      ]
     },
     "execution_count": 17,
     "metadata": {},
     "output_type": "execute_result"
    }
   ],
   "source": [
    "dias= [3,1,10] \n",
    "dias [1] \n"
   ]
  },
  {
   "cell_type": "code",
   "execution_count": 16,
   "metadata": {},
   "outputs": [
    {
     "data": {
      "text/plain": [
       "10"
      ]
     },
     "execution_count": 16,
     "metadata": {},
     "output_type": "execute_result"
    }
   ],
   "source": [
    "dias= [3,1,10] \n",
    "dias [2] \n"
   ]
  },
  {
   "cell_type": "code",
   "execution_count": 20,
   "metadata": {},
   "outputs": [
    {
     "data": {
      "text/plain": [
       "[7, 8, 9]"
      ]
     },
     "execution_count": 20,
     "metadata": {},
     "output_type": "execute_result"
    }
   ],
   "source": [
    "Z= [3,8,9]\n",
    "Z [0] = 7\n",
    "Z \n"
   ]
  },
  {
   "cell_type": "code",
   "execution_count": 25,
   "metadata": {},
   "outputs": [
    {
     "name": "stdout",
     "output_type": "stream",
     "text": [
      "True\n",
      "True\n",
      "[5, 7, 5, 8, 9]\n",
      "[5, 7, 5, 8, 9]\n",
      "True\n"
     ]
    }
   ],
   "source": [
    "V = [6,7,5,8,9]\n",
    "L = V\n",
    "print(V==L)\n",
    "print(V is L)\n",
    "V[0]=5\n",
    "print(V)\n",
    "print(L)\n",
    "print(V is L)\n"
   ]
  },
  {
   "cell_type": "code",
   "execution_count": 24,
   "metadata": {},
   "outputs": [
    {
     "name": "stdout",
     "output_type": "stream",
     "text": [
      "True\n",
      "False\n",
      "[81, 82, 83]\n",
      "[5, 82, 83]\n"
     ]
    }
   ],
   "source": [
    "a = [81,82,83]\n",
    "b = a [:]    #criar um clone com fatia\n",
    "print(a == b)\n",
    "print(a is b)\n",
    "b [0] = 5\n",
    "print(a)\n",
    "print(b)"
   ]
  },
  {
   "cell_type": "code",
   "execution_count": 27,
   "metadata": {},
   "outputs": [
    {
     "name": "stdout",
     "output_type": "stream",
     "text": [
      "['b', 'c']\n",
      "['a', 'b', 'c', 'd']\n",
      "['d', 'e', 'f']\n",
      "['a', 'b', 'c', 'd', 'e', 'f']\n"
     ]
    }
   ],
   "source": [
    "uma_lista = ['a','b','c','d','e','f']\n",
    "print(uma_lista[1:3]) # 1 antes\n",
    "print(uma_lista[:4])\n",
    "print(uma_lista[3:]) #do 0 ao 3\n",
    "print(uma_lista[:])\n",
    "\n"
   ]
  },
  {
   "cell_type": "code",
   "execution_count": 32,
   "metadata": {},
   "outputs": [
    {
     "name": "stdout",
     "output_type": "stream",
     "text": [
      "3\n"
     ]
    }
   ],
   "source": [
    "a = [1,2,3]\n",
    "b = a[:]\n",
    "b[0]= 5\n",
    "print(a[2])\n",
    "\n",
    "#0,1,2,3,4\n"
   ]
  },
  {
   "cell_type": "code",
   "execution_count": 157,
   "metadata": {},
   "outputs": [],
   "source": [
    "Minhalista = [76,92.3,\"oi\",True,4,76.]\n",
    "Minhalista = Minhalista + ['pitomba', 76] "
   ]
  },
  {
   "cell_type": "code",
   "execution_count": 158,
   "metadata": {},
   "outputs": [
    {
     "data": {
      "text/plain": [
       "[76, 92.3, 'oi', True, 4, 76.0, 'pitomba', 76]"
      ]
     },
     "execution_count": 158,
     "metadata": {},
     "output_type": "execute_result"
    }
   ],
   "source": [
    "Minhalista"
   ]
  },
  {
   "cell_type": "code",
   "execution_count": 160,
   "metadata": {},
   "outputs": [],
   "source": [
    "Minhalista = Minhalista[:3] + ['Cibele'] + Minhalista[3:]"
   ]
  },
  {
   "cell_type": "code",
   "execution_count": 161,
   "metadata": {},
   "outputs": [
    {
     "data": {
      "text/plain": [
       "[76, 92.3, 'oi', 'Cibele', True, 4, 76.0, 'pitomba', 76]"
      ]
     },
     "execution_count": 161,
     "metadata": {},
     "output_type": "execute_result"
    }
   ],
   "source": [
    "Minhalista"
   ]
  },
  {
   "cell_type": "code",
   "execution_count": 162,
   "metadata": {},
   "outputs": [],
   "source": [
    "Minhalista = [99]  + Minhalista "
   ]
  },
  {
   "cell_type": "code",
   "execution_count": 163,
   "metadata": {},
   "outputs": [
    {
     "data": {
      "text/plain": [
       "[99, 76, 92.3, 'oi', 'Cibele', True, 4, 76.0, 'pitomba', 76]"
      ]
     },
     "execution_count": 163,
     "metadata": {},
     "output_type": "execute_result"
    }
   ],
   "source": [
    "Minhalista"
   ]
  },
  {
   "cell_type": "code",
   "execution_count": 164,
   "metadata": {},
   "outputs": [
    {
     "name": "stdout",
     "output_type": "stream",
     "text": [
      "oi\n"
     ]
    }
   ],
   "source": [
    "\n",
    "if Minhalista[0] == 'oi':\n",
    "    print(Minhalista[0])\n",
    "elif Minhalista[1] == 'oi':\n",
    "    print(Minhalista[1])\n",
    "elif Minhalista[2] == 'oi':\n",
    "    print(Minhalista[2])\n",
    "elif Minhalista[3] == 'oi':\n",
    "    print(Minhalista[3])\n",
    "elif Minhalista[4] == 'oi':\n",
    "    print(Minhalista[4])\n",
    "elif Minhalista[5] == 'oi':\n",
    "    print(Minhalista[5])\n",
    "elif Minhalista[6] == 'oi':\n",
    "    print(Minhalista[6])\n",
    "elif Minhalista[7] == 'oi':\n",
    "    print(Minhalista[7])\n",
    "elif Minhalista[8] == 'oi':\n",
    "    print(Minhalista[8])\n",
    "elif Minhalista[9] == 'oi':\n",
    "    print(Minhalista[9])\n",
    "#removendo True da lista\n",
    "#minhaLista = minhaLista[:5] + minhaLista[6:]\n"
   ]
  },
  {
   "cell_type": "code",
   "execution_count": 165,
   "metadata": {},
   "outputs": [
    {
     "data": {
      "text/plain": [
       "[99, 76, 92.3, 'oi', 'Cibele', True, 4, 76.0, 'pitomba', 76]"
      ]
     },
     "execution_count": 165,
     "metadata": {},
     "output_type": "execute_result"
    }
   ],
   "source": [
    "Minhalista"
   ]
  },
  {
   "cell_type": "code",
   "execution_count": 166,
   "metadata": {},
   "outputs": [
    {
     "data": {
      "text/plain": [
       "[99, 76, 92.3, 'oi', 'Cibele', 4, 76.0, 'pitomba', 76]"
      ]
     },
     "execution_count": 166,
     "metadata": {},
     "output_type": "execute_result"
    }
   ],
   "source": [
    "Minhalista = Minhalista[:5] + Minhalista[6:]\n",
    "Minhalista"
   ]
  },
  {
   "cell_type": "markdown",
   "metadata": {},
   "source": []
  }
 ],
 "metadata": {
  "kernelspec": {
   "display_name": "Python 3",
   "language": "python",
   "name": "python3"
  },
  "language_info": {
   "codemirror_mode": {
    "name": "ipython",
    "version": 3
   },
   "file_extension": ".py",
   "mimetype": "text/x-python",
   "name": "python",
   "nbconvert_exporter": "python",
   "pygments_lexer": "ipython3",
   "version": "3.11.4"
  }
 },
 "nbformat": 4,
 "nbformat_minor": 2
}
