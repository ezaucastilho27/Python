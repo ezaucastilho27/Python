{
 "cells": [
  {
   "cell_type": "code",
   "execution_count": 2,
   "metadata": {},
   "outputs": [
    {
     "name": "stdout",
     "output_type": "stream",
     "text": [
      "Estamos no elemento 1\n",
      "Estamos no elemento 2\n",
      "Estamos no elemento 3\n",
      "Estamos no elemento 4\n",
      "Estamos no elemento 5\n",
      "Estamos no elemento 6\n"
     ]
    }
   ],
   "source": [
    "for elemento in {1, 2, 3, 4, 5, 6}:\n",
    "    print('Estamos no elemento', elemento)"
   ]
  },
  {
   "cell_type": "code",
   "execution_count": 6,
   "metadata": {},
   "outputs": [
    {
     "name": "stdout",
     "output_type": "stream",
     "text": [
      "Estamos no elemento S\n",
      "Estamos no elemento T\n",
      "Estamos no elemento R\n",
      "Estamos no elemento I\n",
      "Estamos no elemento N\n",
      "Estamos no elemento G\n"
     ]
    }
   ],
   "source": [
    "for elemento in 'STRING':\n",
    "    print ('Estamos no elemento', elemento)"
   ]
  },
  {
   "cell_type": "code",
   "execution_count": 9,
   "metadata": {},
   "outputs": [
    {
     "name": "stdout",
     "output_type": "stream",
     "text": [
      "estamos no elemento 0\n",
      "estamos no elemento 1\n",
      "estamos no elemento 2\n",
      "estamos no elemento 3\n",
      "estamos no elemento 4\n",
      "estamos no elemento 5\n"
     ]
    }
   ],
   "source": [
    "for elemento in range(len(\"STRING\")):\n",
    "    print('estamos no elemento',elemento)"
   ]
  },
  {
   "cell_type": "code",
   "execution_count": 11,
   "metadata": {},
   "outputs": [],
   "source": [
    "elemento = 0"
   ]
  },
  {
   "cell_type": "code",
   "execution_count": 14,
   "metadata": {},
   "outputs": [
    {
     "name": "stdout",
     "output_type": "stream",
     "text": [
      "Estamos no elemento 0\n",
      "Estamos no elemento 1\n",
      "Estamos no elemento 2\n",
      "Estamos no elemento 3\n",
      "Estamos no elemento 4\n",
      "Estamos no elemento 5\n",
      "Estamos no elemento 6\n"
     ]
    }
   ],
   "source": [
    "elemento = 0\n",
    "while elemento <= len ([1, 2, 3, 4, 5, 6]):\n",
    "    print ('Estamos no elemento', elemento)\n",
    "    elemento +=1"
   ]
  },
  {
   "cell_type": "code",
   "execution_count": 23,
   "metadata": {},
   "outputs": [
    {
     "name": "stdout",
     "output_type": "stream",
     "text": [
      "Estamos no elemento S\n",
      "Estamos no elemento T\n",
      "Estamos no elemento R\n",
      "Estamos no elemento I\n",
      "Estamos no elemento N\n",
      "Estamos no elemento G\n"
     ]
    }
   ],
   "source": [
    "s= 'STRING'\n",
    "indice = 0 \n",
    "\n",
    "while indice in range (len (s)):\n",
    "    print('Estamos no elemento', s[indice])\n",
    "    indice +=1\n",
    "\n",
    "    #codigo sempre alinhado para funcionar"
   ]
  },
  {
   "cell_type": "code",
   "execution_count": 33,
   "metadata": {},
   "outputs": [
    {
     "name": "stdout",
     "output_type": "stream",
     "text": [
      "0 o\n",
      "1 o\n",
      "2 o\n",
      "3 o\n",
      "4 o\n",
      "5 o\n",
      "6 o\n",
      "7 o\n",
      "8 o\n"
     ]
    }
   ],
   "source": [
    "palavra ='tranquilo'\n",
    "for indice, tranquilo in enumerate(palavra):\n",
    "    print(indice, letra)"
   ]
  },
  {
   "cell_type": "code",
   "execution_count": 36,
   "metadata": {},
   "outputs": [
    {
     "name": "stdout",
     "output_type": "stream",
     "text": [
      "0 t\n",
      "1 r\n",
      "2 a\n",
      "3 n\n",
      "4 q\n",
      "5 u\n",
      "6 i\n",
      "7 l\n",
      "8 o\n"
     ]
    }
   ],
   "source": [
    "palavra ='tranquilo'\n",
    "for indice, letra in enumerate(palavra):\n",
    "    print(indice, letra)"
   ]
  },
  {
   "cell_type": "code",
   "execution_count": 37,
   "metadata": {},
   "outputs": [],
   "source": [
    "lista =['eat', 'sleep', 'repeat']\n",
    "palavra='geek'"
   ]
  },
  {
   "cell_type": "code",
   "execution_count": 38,
   "metadata": {},
   "outputs": [],
   "source": [
    "objeto1= enumerate (lista)\n",
    "objeto2= enumerate (palavra)"
   ]
  },
  {
   "cell_type": "code",
   "execution_count": 39,
   "metadata": {},
   "outputs": [
    {
     "name": "stdout",
     "output_type": "stream",
     "text": [
      "Tipo:  <class 'enumerate'>\n",
      "[(0, 'eat'), (1, 'sleep'), (2, 'repeat')]\n"
     ]
    }
   ],
   "source": [
    "print (\"Tipo: \", type(objeto1))\n",
    "print(list(enumerate(lista)))"
   ]
  },
  {
   "cell_type": "code",
   "execution_count": 40,
   "metadata": {},
   "outputs": [
    {
     "name": "stdout",
     "output_type": "stream",
     "text": [
      "[(2, 'g'), (3, 'e'), (4, 'e'), (5, 'k')]\n"
     ]
    }
   ],
   "source": [
    "print(list(enumerate(palavra,2)))"
   ]
  },
  {
   "cell_type": "code",
   "execution_count": 41,
   "metadata": {},
   "outputs": [
    {
     "name": "stdout",
     "output_type": "stream",
     "text": [
      "Oi\n",
      "Oi\n",
      "Oi\n",
      "Oi\n",
      "Oi\n",
      "Oi\n",
      "Oi\n",
      "Oi\n",
      "Oi\n",
      "Oi\n",
      "Oi\n",
      "Oi\n",
      "Oi\n"
     ]
    }
   ],
   "source": [
    "s = \"viva o python\"\n",
    "for ch in s:\n",
    "    print(\"Oi\")"
   ]
  },
  {
   "cell_type": "code",
   "execution_count": 47,
   "metadata": {},
   "outputs": [
    {
     "name": "stdout",
     "output_type": "stream",
     "text": [
      "Oi\n",
      "Oi\n",
      "Oi\n",
      "Oi\n",
      "Oi\n"
     ]
    }
   ],
   "source": [
    "s = \"viva o python\"\n",
    "for ch in s[3:8]:\n",
    "    print(\"Oi\")"
   ]
  },
  {
   "cell_type": "code",
   "execution_count": 52,
   "metadata": {},
   "outputs": [
    {
     "ename": "ValueError",
     "evalue": "invalid literal for int() with base 10: ''",
     "output_type": "error",
     "traceback": [
      "\u001b[1;31m---------------------------------------------------------------------------\u001b[0m",
      "\u001b[1;31mValueError\u001b[0m                                Traceback (most recent call last)",
      "Cell \u001b[1;32mIn[52], line 13\u001b[0m\n\u001b[0;32m     11\u001b[0m \u001b[38;5;66;03m# Pedir ao usuário para inserir 10 números inteiros\u001b[39;00m\n\u001b[0;32m     12\u001b[0m \u001b[38;5;28;01mfor\u001b[39;00m i \u001b[38;5;129;01min\u001b[39;00m \u001b[38;5;28mrange\u001b[39m(\u001b[38;5;241m10\u001b[39m):\n\u001b[1;32m---> 13\u001b[0m     numero \u001b[38;5;241m=\u001b[39m \u001b[38;5;28;43mint\u001b[39;49m\u001b[43m(\u001b[49m\u001b[38;5;28;43minput\u001b[39;49m\u001b[43m(\u001b[49m\u001b[38;5;124;43m\"\u001b[39;49m\u001b[38;5;124;43mDigite um número inteiro: \u001b[39;49m\u001b[38;5;124;43m\"\u001b[39;49m\u001b[43m)\u001b[49m\u001b[43m)\u001b[49m\n\u001b[0;32m     14\u001b[0m     numeros\u001b[38;5;241m.\u001b[39mappend(numero)\n\u001b[0;32m     16\u001b[0m \u001b[38;5;66;03m# Contadores para números pares e ímpares\u001b[39;00m\n",
      "\u001b[1;31mValueError\u001b[0m: invalid literal for int() with base 10: ''"
     ]
    }
   ],
   "source": [
    "# Função para verificar se um número é par ou ímpar\n",
    "def verificar_par_impar(numero):\n",
    "    if numero % 2 == 0:\n",
    "        return \"par\"\n",
    "    else:\n",
    "        return \"ímpar\"\n",
    "\n",
    "# Lista para armazenar os números fornecidos pelo usuário\n",
    "numeros = []\n",
    "\n",
    "# Pedir ao usuário para inserir 10 números inteiros\n",
    "for i in range(10):\n",
    "    numero = int(input(\"Digite um número inteiro: \"))\n",
    "    numeros.append(numero)\n",
    "\n",
    "# Contadores para números pares e ímpares\n",
    "quantidade_pares = 0\n",
    "quantidade_impares = 0\n",
    "\n",
    "# Verificar cada número e contar quantos são pares e quantos são ímpares\n",
    "for numero in numeros:\n",
    "    if verificar_par_impar(numero) == \"par\":\n",
    "        quantidade_pares += 1\n",
    "    else:\n",
    "        quantidade_impares += 1\n",
    "\n",
    "# Mostrar os resultados\n",
    "print(\"Quantidade de números pares:\", quantidade_pares)\n",
    "print(\"Quantidade de números ímpares:\", quantidade_impares)"
   ]
  },
  {
   "cell_type": "code",
   "execution_count": 54,
   "metadata": {},
   "outputs": [
    {
     "name": "stdout",
     "output_type": "stream",
     "text": [
      "Quantidade de números pares: 6\n",
      "Quantidade de números ímpares: 4\n"
     ]
    }
   ],
   "source": [
    "    # Função para verificar se um número é par ou ímpar\n",
    "    def verificar_par_impar(numero):\n",
    "        if numero % 2 == 0:\n",
    "            return \"par\"\n",
    "        else:\n",
    "            return \"ímpar\"\n",
    "\n",
    "    # Lista para armazenar os números fornecidos pelo usuário\n",
    "    numeros = []\n",
    "\n",
    "    # Pedir ao usuário para inserir 10 números inteiros\n",
    "    for i in range(10):\n",
    "        numero = int(input(\"Digite um número inteiro: \"))\n",
    "        numeros.append(numero)\n",
    "\n",
    "    # Contadores para números pares e ímpares\n",
    "    quantidade_pares = 0\n",
    "    quantidade_impares = 0\n",
    "\n",
    "    # Verificar cada número e contar quantos são pares e quantos são ímpares\n",
    "    for numero in numeros:\n",
    "        if verificar_par_impar(numero) == \"par\":\n",
    "            quantidade_pares += 1\n",
    "        else:\n",
    "            quantidade_impares += 1\n",
    "\n",
    "    # Mostrar os resultados\n",
    "    print(\"Quantidade de números pares:\", quantidade_pares)\n",
    "    print(\"Quantidade de números ímpares:\", quantidade_impares)"
   ]
  }
 ],
 "metadata": {
  "kernelspec": {
   "display_name": "Python 3",
   "language": "python",
   "name": "python3"
  },
  "language_info": {
   "codemirror_mode": {
    "name": "ipython",
    "version": 3
   },
   "file_extension": ".py",
   "mimetype": "text/x-python",
   "name": "python",
   "nbconvert_exporter": "python",
   "pygments_lexer": "ipython3",
   "version": "3.11.4"
  }
 },
 "nbformat": 4,
 "nbformat_minor": 2
}
